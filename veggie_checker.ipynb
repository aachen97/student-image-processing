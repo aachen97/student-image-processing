{
  "nbformat": 4,
  "nbformat_minor": 0,
  "metadata": {
    "colab": {
      "name": "veggie-checker.ipynb",
      "version": "0.3.2",
      "provenance": [],
      "include_colab_link": true
    },
    "kernelspec": {
      "name": "python3",
      "display_name": "Python 3"
    }
  },
  "cells": [
    {
      "cell_type": "markdown",
      "metadata": {
        "id": "view-in-github",
        "colab_type": "text"
      },
      "source": [
        "<a href=\"https://colab.research.google.com/github/aachen97/student-image-processing/blob/master/veggie_checker.ipynb\" target=\"_parent\"><img src=\"https://colab.research.google.com/assets/colab-badge.svg\" alt=\"Open In Colab\"/></a>"
      ]
    },
    {
      "cell_type": "code",
      "metadata": {
        "id": "hC9hYfUzBTOX",
        "colab_type": "code",
        "colab": {
          "base_uri": "https://localhost:8080/",
          "height": 105
        },
        "outputId": "c899a9fc-d5f5-4b26-9cc3-cf7a4b114ca0"
      },
      "source": [
        "import PIL\n",
        "from PIL.ExifTags import TAGS, GPSTAGS \n",
        "import cv2 as cv\n",
        "try:\n",
        "  import piexif\n",
        "  import piexif.helper\n",
        "except:\n",
        "  !pip install piexif\n",
        "  import piexif\n",
        "  import piexif.helper\n",
        "\n",
        "from google.colab.patches import cv2_imshow \n",
        "from google.colab import drive\n",
        "import pathlib \n",
        "import numpy as np\n",
        "from matplotlib import pyplot as plt"
      ],
      "execution_count": 1,
      "outputs": [
        {
          "output_type": "stream",
          "text": [
            "Collecting piexif\n",
            "  Downloading https://files.pythonhosted.org/packages/2c/d8/6f63147dd73373d051c5eb049ecd841207f898f50a5a1d4378594178f6cf/piexif-1.1.3-py2.py3-none-any.whl\n",
            "Installing collected packages: piexif\n",
            "Successfully installed piexif-1.1.3\n"
          ],
          "name": "stdout"
        }
      ]
    },
    {
      "cell_type": "code",
      "metadata": {
        "id": "OnUSbas9CWBK",
        "colab_type": "code",
        "colab": {}
      },
      "source": [
        "image_path = #image path\n",
        "img = PIL.Image.open(image_path)\n",
        "img\n",
        "info = pase_exif(img)"
      ],
      "execution_count": 0,
      "outputs": []
    }
  ]
}