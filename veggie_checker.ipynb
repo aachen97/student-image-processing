{
  "nbformat": 4,
  "nbformat_minor": 0,
  "metadata": {
    "colab": {
      "name": "veggie-checker.ipynb",
      "version": "0.3.2",
      "provenance": [],
      "include_colab_link": true
    },
    "kernelspec": {
      "name": "python3",
      "display_name": "Python 3"
    }
  },
  "cells": [
    {
      "cell_type": "markdown",
      "metadata": {
        "id": "view-in-github",
        "colab_type": "text"
      },
      "source": [
        "<a href=\"https://colab.research.google.com/github/aachen97/student-image-processing/blob/master/veggie_checker.ipynb\" target=\"_parent\"><img src=\"https://colab.research.google.com/assets/colab-badge.svg\" alt=\"Open In Colab\"/></a>"
      ]
    },
    {
      "cell_type": "code",
      "metadata": {
        "id": "hC9hYfUzBTOX",
        "colab_type": "code",
        "colab": {}
      },
      "source": [
        "import PIL\n",
        "from PIL.ExifTags import TAGS, GPSTAGS \n",
        "import cv2 as cv\n",
        "try:\n",
        "  import piexif\n",
        "  import piexif.helper\n",
        "except:\n",
        "  !pip install piexif\n",
        "  import piexif\n",
        "  import piexif.helper\n",
        "\n",
        "from google.colab.patches import cv2_imshow \n",
        "from google.colab import drive\n",
        "import pathlib \n",
        "import numpy as np\n",
        "from matplotlib import pyplot as plt"
      ],
      "execution_count": 0,
      "outputs": []
    }
  ]
}