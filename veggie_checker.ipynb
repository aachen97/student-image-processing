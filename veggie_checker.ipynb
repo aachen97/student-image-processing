{
  "nbformat": 4,
  "nbformat_minor": 0,
  "metadata": {
    "colab": {
      "name": "veggie-checker.ipynb",
      "version": "0.3.2",
      "provenance": [],
      "include_colab_link": true
    },
    "kernelspec": {
      "name": "python3",
      "display_name": "Python 3"
    }
  },
  "cells": [
    {
      "cell_type": "markdown",
      "metadata": {
        "id": "view-in-github",
        "colab_type": "text"
      },
      "source": [
        "<a href=\"https://colab.research.google.com/github/aachen97/student-image-processing/blob/master/veggie_checker.ipynb\" target=\"_parent\"><img src=\"https://colab.research.google.com/assets/colab-badge.svg\" alt=\"Open In Colab\"/></a>"
      ]
    },
    {
      "cell_type": "code",
      "metadata": {
        "id": "hC9hYfUzBTOX",
        "colab_type": "code",
        "outputId": "38a9b907-4fb7-4670-da71-5b65a91cd070",
        "colab": {
          "base_uri": "https://localhost:8080/",
          "height": 479
        }
      },
      "source": [
        "import PIL\n",
        "from PIL.ExifTags import TAGS, GPSTAGS \n",
        "import cv2 as cv\n",
        "try:\n",
        "  import piexif\n",
        "  import piexif.helper\n",
        "except:\n",
        "  !pip install piexif\n",
        "  import piexif\n",
        "  import piexif.helper\n",
        "\n",
        "from google.colab.patches import cv2_imshow \n",
        "from google.colab import drive\n",
        "import pathlib \n",
        "import numpy as np\n",
        "from matplotlib import pyplot as plt\n",
        "!export CURL_CA_BUNDLE=/etc/ssl/certs/ca-certificates.crt\n",
        "try:\n",
        "  import rasterio\n",
        "  import rasterio.plot\n",
        "except:\n",
        "  !pip install rasterio\n",
        "  import rasterio\n",
        "  import rasterio.plot\n",
        "  \n",
        "try:\n",
        "  import pyproj\n",
        "except:\n",
        "  !pip install pyproj\n",
        "  import pyproj\n",
        "  \n",
        "import gdal"
      ],
      "execution_count": 1,
      "outputs": [
        {
          "output_type": "stream",
          "text": [
            "Collecting piexif\n",
            "  Downloading https://files.pythonhosted.org/packages/2c/d8/6f63147dd73373d051c5eb049ecd841207f898f50a5a1d4378594178f6cf/piexif-1.1.3-py2.py3-none-any.whl\n",
            "Installing collected packages: piexif\n",
            "Successfully installed piexif-1.1.3\n",
            "Collecting rasterio\n",
            "\u001b[?25l  Downloading https://files.pythonhosted.org/packages/a2/d6/f5dc5b31b5bbb8c9cf0ae2f38a31e4406994db48f9f14d9434588c935c7c/rasterio-1.0.24-cp36-cp36m-manylinux1_x86_64.whl (19.7MB)\n",
            "\u001b[K     |████████████████████████████████| 19.7MB 2.0MB/s \n",
            "\u001b[?25hRequirement already satisfied: click<8,>=4.0 in /usr/local/lib/python3.6/dist-packages (from rasterio) (7.0)\n",
            "Requirement already satisfied: attrs in /usr/local/lib/python3.6/dist-packages (from rasterio) (19.1.0)\n",
            "Requirement already satisfied: numpy in /usr/local/lib/python3.6/dist-packages (from rasterio) (1.16.4)\n",
            "Collecting snuggs>=1.4.1 (from rasterio)\n",
            "  Downloading https://files.pythonhosted.org/packages/58/14/8e90b7586ab6929861161e73e9fd55637a060e4d14dd1be14a4b8a08751f/snuggs-1.4.6-py3-none-any.whl\n",
            "Collecting affine (from rasterio)\n",
            "  Downloading https://files.pythonhosted.org/packages/56/5d/6877929932d17850fa4903d0db8233ec8ed35aab7ceae96fa44ea6d479bd/affine-2.2.2-py2.py3-none-any.whl\n",
            "Collecting cligj>=0.5 (from rasterio)\n",
            "  Downloading https://files.pythonhosted.org/packages/e4/be/30a58b4b0733850280d01f8bd132591b4668ed5c7046761098d665ac2174/cligj-0.5.0-py3-none-any.whl\n",
            "Collecting click-plugins (from rasterio)\n",
            "  Downloading https://files.pythonhosted.org/packages/e9/da/824b92d9942f4e472702488857914bdd50f73021efea15b4cad9aca8ecef/click_plugins-1.1.1-py2.py3-none-any.whl\n",
            "Requirement already satisfied: pyparsing>=2.1.6 in /usr/local/lib/python3.6/dist-packages (from snuggs>=1.4.1->rasterio) (2.4.0)\n",
            "Installing collected packages: snuggs, affine, cligj, click-plugins, rasterio\n",
            "Successfully installed affine-2.2.2 click-plugins-1.1.1 cligj-0.5.0 rasterio-1.0.24 snuggs-1.4.6\n",
            "Collecting pyproj\n",
            "\u001b[?25l  Downloading https://files.pythonhosted.org/packages/16/59/43869adef45ce4f1cf7d5c3aef1ea5d65d449050abdda5de7a2465c5729d/pyproj-2.2.1-cp36-cp36m-manylinux1_x86_64.whl (11.2MB)\n",
            "\u001b[K     |████████████████████████████████| 11.2MB 2.7MB/s \n",
            "\u001b[?25hInstalling collected packages: pyproj\n",
            "Successfully installed pyproj-2.2.1\n"
          ],
          "name": "stdout"
        }
      ]
    },
    {
      "cell_type": "code",
      "metadata": {
        "id": "OnUSbas9CWBK",
        "colab_type": "code",
        "colab": {}
      },
      "source": [
        "image_path = #image path\n",
        "img = PIL.Image.open(image_path)\n",
        "img\n",
        "info = pase_exif(img)"
      ],
      "execution_count": 0,
      "outputs": []
    },
    {
      "cell_type": "code",
      "metadata": {
        "id": "ULXZgr5eGoYi",
        "colab_type": "code",
        "colab": {}
      },
      "source": [
        "ndvi = (nir - red) / (nir + red)"
      ],
      "execution_count": 0,
      "outputs": []
    }
  ]
}